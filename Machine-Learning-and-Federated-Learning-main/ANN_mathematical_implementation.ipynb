{
 "cells": [
  {
   "cell_type": "code",
   "execution_count": 2,
   "metadata": {},
   "outputs": [
    {
     "name": "stdout",
     "output_type": "stream",
     "text": [
      "[[0.77554806 0.20702323 0.01860736 0.69052358]\n",
      " [0.86027775 0.93905453 0.17585943 0.6560811 ]\n",
      " [0.29368112 0.41463186 0.04878642 0.17224258]]\n",
      "[[0.64299845]\n",
      " [0.71831347]\n",
      " [0.52837794]\n",
      " [0.40269698]]\n",
      "after training\n",
      "[[0.00195727]\n",
      " [0.99631092]\n",
      " [0.99896968]\n",
      " [0.00319215]]\n"
     ]
    }
   ],
   "source": [
    "import numpy as np\n",
    "import math\n",
    "weight1 = np.random.rand(3,4)\n",
    "weight2 = np.random.rand(4,1)\n",
    "print(weight1)\n",
    "print(weight2)\n",
    "training_input=np.array([[0,1,0],\n",
    "                        [1,1,1],\n",
    "                       [1,0,1],\n",
    "                       [0,1,1]])\n",
    "training_output=np.array([[0,1,1,0]]).T\n",
    "\n",
    "def sigmoid(x):\n",
    "    return 1/(1+np.exp(-x))\n",
    "\n",
    "def sigmoid_derivative(x):\n",
    "    return x*(1-x)\n",
    "for i in range(15000):\n",
    "    hidden_layer = sigmoid(np.dot(training_input,weight1))\n",
    "    output_layer = sigmoid(np.dot(hidden_layer,weight2))\n",
    "    d_weight2 = np.dot(hidden_layer.T, (2*(training_output - output_layer) * sigmoid_derivative(output_layer)))\n",
    "    d_weight1 = np.dot(training_input.T,  (np.dot(2*(training_output - output_layer) * sigmoid_derivative(output_layer), weight2.T) * sigmoid_derivative(hidden_layer)))\n",
    "    weight1+=d_weight1\n",
    "    weight2+=d_weight2\n",
    "print(\"after training\")   \n",
    "print(output_layer)    "
   ]
  },
  {
   "cell_type": "code",
   "execution_count": null,
   "metadata": {},
   "outputs": [],
   "source": []
  }
 ],
 "metadata": {
  "kernelspec": {
   "display_name": "Python 3",
   "language": "python",
   "name": "python3"
  },
  "language_info": {
   "codemirror_mode": {
    "name": "ipython",
    "version": 3
   },
   "file_extension": ".py",
   "mimetype": "text/x-python",
   "name": "python",
   "nbconvert_exporter": "python",
   "pygments_lexer": "ipython3",
   "version": "3.7.4"
  }
 },
 "nbformat": 4,
 "nbformat_minor": 2
}
