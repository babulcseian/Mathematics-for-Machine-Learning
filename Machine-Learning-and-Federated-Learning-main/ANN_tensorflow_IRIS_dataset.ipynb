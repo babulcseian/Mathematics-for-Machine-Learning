{
 "cells": [
  {
   "cell_type": "code",
   "execution_count": null,
   "metadata": {},
   "outputs": [],
   "source": []
  },
  {
   "cell_type": "code",
   "execution_count": null,
   "metadata": {},
   "outputs": [],
   "source": []
  },
  {
   "cell_type": "code",
   "execution_count": null,
   "metadata": {},
   "outputs": [],
   "source": []
  },
  {
   "cell_type": "code",
   "execution_count": 16,
   "metadata": {},
   "outputs": [
    {
     "name": "stdout",
     "output_type": "stream",
     "text": [
      "0         Iris-setosa\n",
      "1         Iris-setosa\n",
      "2         Iris-setosa\n",
      "3         Iris-setosa\n",
      "4         Iris-setosa\n",
      "            ...      \n",
      "145    Iris-virginica\n",
      "146    Iris-virginica\n",
      "147    Iris-virginica\n",
      "148    Iris-virginica\n",
      "149    Iris-virginica\n",
      "Name: Species, Length: 150, dtype: object\n",
      "(150, 4)\n",
      "(150, 3)\n",
      "(90, 3) (90, 4)\n",
      "(?, 4) (?, 3)\n",
      "Tensor(\"Equal_8:0\", shape=(90,), dtype=bool)\n",
      "Tensor(\"Mean_20:0\", shape=(), dtype=float32)\n",
      "0.96666664\n"
     ]
    }
   ],
   "source": [
    "import numpy as np\n",
    "import pandas as pd\n",
    "from sklearn.model_selection import train_test_split\n",
    "from sklearn import preprocessing\n",
    "import tensorflow.compat.v1 as tf\n",
    "tf.disable_v2_behavior()\n",
    "data=pd.read_csv('iris.csv')\n",
    "# data.head()\n",
    "\n",
    "\n",
    "\n",
    "x_data=data[['SepalLengthCm','SepalWidthCm','PetalLengthCm','PetalLengthCm']]\n",
    "y_data=data['Species']\n",
    "print(y_data)\n",
    "#label_encoder=preprocessing.LabelEncoder()\n",
    "#data['Species']=label_encoder.fit_transform(data['Species'])\n",
    "\n",
    "#data['Species'].unique()\n",
    "y_data_dummies=data[\"Species\"]\n",
    "y_data=pd.get_dummies(y_data_dummies)\n",
    "print(x_data.shape)\n",
    "print(y_data.shape)\n",
    "x_train, x_test,y_train, y_test=train_test_split(x_data,y_data,test_size=0.4)\n",
    "print(y_train.shape, x_train.shape)\n",
    "\n",
    "n_input=4\n",
    "n_hidden=10\n",
    "n_output=3\n",
    "x = tf.compat.v1.placeholder(tf.float32, [None, n_input])\n",
    "y = tf.compat.v1.placeholder(tf.float32, [None, n_output])\n",
    "print(x.shape, y.shape)\n",
    "\n",
    "w1 = tf.Variable(tf.random_normal([n_input, n_hidden]))\n",
    "w2 = tf.Variable(tf.random_normal([n_hidden, n_output]))\n",
    "\n",
    "# biases\n",
    "b1= tf.Variable(tf.random.normal([n_hidden]))\n",
    "b2= tf.Variable(tf.random.normal([n_output]))\n",
    "\n",
    "# forward propagation\n",
    "def forward_propagation(x):\n",
    "    mul_1 = tf.add(tf.matmul(x,w1),b1)\n",
    "    hidden_layer = tf.sigmoid(mul_1)\n",
    "    mul_2 = tf.add(tf.matmul(hidden_layer,w2),b2)\n",
    "    output_layer = tf.sigmoid(mul_2)\n",
    "    return output_layer\n",
    "\n",
    "y_out=forward_propagation(x)\n",
    "#ypredict = tf.argmax(y_out, axis=1)\n",
    "cost = tf.reduce_mean(tf.nn.softmax_cross_entropy_with_logits(labels=y, logits=y_out))\n",
    "optimizer = tf.train.GradientDescentOptimizer(.01)\n",
    "\n",
    "\n",
    "#optimizer = tf.train.AdamOptimizer(.01)\n",
    "train_op = optimizer.minimize(cost)\n",
    "\n",
    "init = tf.global_variables_initializer()      \n",
    "   \n",
    "\n",
    "with tf.compat.v1.Session() as sess:\n",
    "    sess.run(init)\n",
    "    for i in range(150000):\n",
    "        aaa=sess.run(train_op, feed_dict={x: x_train, y: y_train})\n",
    "    test_result=sess.run(y_out, feed_dict={x: x_train})\n",
    "    ypredict = tf.argmax(test_result, axis=1)\n",
    "    currect_prediction=tf.equal(ypredict, tf.argmax(y_train, axis=1))\n",
    "    print(currect_prediction)\n",
    "    accuracy=tf.reduce_mean(tf.cast(currect_prediction, \"float\"))\n",
    "    print(accuracy)\n",
    "    print(accuracy.eval({x: x_test, y: y_test}))"
   ]
  },
  {
   "cell_type": "code",
   "execution_count": null,
   "metadata": {},
   "outputs": [],
   "source": []
  }
 ],
 "metadata": {
  "kernelspec": {
   "display_name": "Python 3",
   "language": "python",
   "name": "python3"
  },
  "language_info": {
   "codemirror_mode": {
    "name": "ipython",
    "version": 3
   },
   "file_extension": ".py",
   "mimetype": "text/x-python",
   "name": "python",
   "nbconvert_exporter": "python",
   "pygments_lexer": "ipython3",
   "version": "3.7.4"
  }
 },
 "nbformat": 4,
 "nbformat_minor": 4
}
