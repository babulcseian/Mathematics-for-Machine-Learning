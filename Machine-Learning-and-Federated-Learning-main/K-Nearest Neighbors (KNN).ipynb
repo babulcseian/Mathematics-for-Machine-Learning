{
 "cells": [
  {
   "cell_type": "code",
   "execution_count": 15,
   "metadata": {},
   "outputs": [
    {
     "name": "stdout",
     "output_type": "stream",
     "text": [
      "    height  weight\n",
      "0      158      58\n",
      "1      158      59\n",
      "2      158      63\n",
      "3      160      62\n",
      "4      160      61\n",
      "5      163      58\n",
      "6      163      60\n",
      "7      160      60\n",
      "8      160      62\n",
      "9      163      57\n",
      "10     165      62\n",
      "11     168      62\n",
      "12     167      60\n",
      "13     170      61 0     M\n",
      "1     M\n",
      "2     M\n",
      "3     M\n",
      "4     M\n",
      "5     M\n",
      "6     M\n",
      "7     L\n",
      "8     L\n",
      "9     L\n",
      "10    L\n",
      "11    L\n",
      "12    L\n",
      "13    L\n",
      "Name: t-shirt, dtype: object\n"
     ]
    },
    {
     "data": {
      "text/plain": [
       "array(['M'], dtype=object)"
      ]
     },
     "execution_count": 15,
     "metadata": {},
     "output_type": "execute_result"
    }
   ],
   "source": [
    "import pandas as pd\n",
    "import numpy as np\n",
    "from sklearn.model_selection import train_test_split\n",
    "from sklearn.neighbors import KNeighborsClassifier\n",
    "data=pd.read_csv('T_Shirt.csv')\n",
    "data.head()\n",
    "x=data[['height','weight']]\n",
    "y=data['t-shirt']\n",
    "print(x,y)\n",
    "x_train,x_test,y_train,y_test=train_test_split(x,y, test_size=0.2)\n",
    "clf=KNeighborsClassifier(n_neighbors=5)\n",
    "clf=clf.fit(x_train, y_train)\n",
    "clf.predict([[161,58]])"
   ]
  },
  {
   "cell_type": "code",
   "execution_count": null,
   "metadata": {},
   "outputs": [],
   "source": []
  },
  {
   "cell_type": "code",
   "execution_count": null,
   "metadata": {},
   "outputs": [],
   "source": []
  }
 ],
 "metadata": {
  "kernelspec": {
   "display_name": "Python 3",
   "language": "python",
   "name": "python3"
  },
  "language_info": {
   "codemirror_mode": {
    "name": "ipython",
    "version": 3
   },
   "file_extension": ".py",
   "mimetype": "text/x-python",
   "name": "python",
   "nbconvert_exporter": "python",
   "pygments_lexer": "ipython3",
   "version": "3.7.4"
  }
 },
 "nbformat": 4,
 "nbformat_minor": 2
}
