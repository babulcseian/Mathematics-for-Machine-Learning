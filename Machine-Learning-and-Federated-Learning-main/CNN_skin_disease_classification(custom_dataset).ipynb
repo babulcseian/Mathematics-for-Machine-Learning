{
 "cells": [
  {
   "cell_type": "code",
   "execution_count": 9,
   "metadata": {},
   "outputs": [],
   "source": [
    "from keras.models import Sequential\n",
    "from keras.layers import Conv2D, MaxPooling2D\n",
    "from keras.layers import Activation, Dropout, Flatten, Dense\n",
    "from keras.preprocessing.image import ImageDataGenerator, array_to_img, img_to_array, load_img"
   ]
  },
  {
   "cell_type": "code",
   "execution_count": 15,
   "metadata": {},
   "outputs": [],
   "source": [
    "img_width = 150\n",
    "img_height = 150\n",
    "train_data_dir = 'skin image/train_data'\n",
    "validation_data_dir = 'skin image/validation_data'\n",
    "train_samples = 120\n",
    "validation_samples = 30\n",
    "epochs = 5\n",
    "batch_size = 20"
   ]
  },
  {
   "cell_type": "code",
   "execution_count": 7,
   "metadata": {},
   "outputs": [],
   "source": [
    "model = Sequential()\n",
    "model.add(Conv2D(32, (3, 3), input_shape=(150, 150,3)))\n",
    "model.add(Activation('relu'))\n",
    "model.add(MaxPooling2D(pool_size=(2, 2)))\n",
    "\n",
    "model.add(Conv2D(32, (3, 3)))\n",
    "model.add(Activation('relu'))\n",
    "model.add(MaxPooling2D(pool_size=(2, 2)))\n",
    "\n",
    "model.add(Conv2D(64, (3, 3)))\n",
    "model.add(Activation('relu'))\n",
    "model.add(MaxPooling2D(pool_size=(2, 2)))\n",
    "model.add(Flatten())  \n",
    "model.add(Dense(64))\n",
    "model.add(Activation('relu'))\n",
    "model.add(Dropout(0.5))\n",
    "model.add(Dense(1))\n",
    "model.add(Activation('sigmoid'))\n",
    "import keras\n",
    "from keras import optimizers\n",
    "model.compile(loss='binary_crossentropy',\n",
    "              optimizer=keras.optimizers.Adam(lr=.0001),\n",
    "              metrics=['accuracy'])"
   ]
  },
  {
   "cell_type": "code",
   "execution_count": 10,
   "metadata": {},
   "outputs": [],
   "source": [
    "train_datagen = ImageDataGenerator(\n",
    "        rescale=1./255,\n",
    "        shear_range=0.2,\n",
    "        zoom_range=0.2,\n",
    "        horizontal_flip=True)"
   ]
  },
  {
   "cell_type": "code",
   "execution_count": 11,
   "metadata": {},
   "outputs": [],
   "source": [
    "test_datagen = ImageDataGenerator(rescale=1./255)"
   ]
  },
  {
   "cell_type": "code",
   "execution_count": 17,
   "metadata": {},
   "outputs": [
    {
     "name": "stdout",
     "output_type": "stream",
     "text": [
      "Found 1743 images belonging to 3 classes.\n"
     ]
    }
   ],
   "source": [
    "train_generator = train_datagen.flow_from_directory(\n",
    "        train_data_dir, \n",
    "        target_size=(150, 150), \n",
    "        batch_size=batch_size,\n",
    "        class_mode='binary')  "
   ]
  },
  {
   "cell_type": "code",
   "execution_count": 18,
   "metadata": {},
   "outputs": [
    {
     "name": "stdout",
     "output_type": "stream",
     "text": [
      "{'acne': 0, 'eczema': 1, 'psoriasis': 2}\n"
     ]
    }
   ],
   "source": [
    "print(train_generator.class_indices)"
   ]
  },
  {
   "cell_type": "code",
   "execution_count": 19,
   "metadata": {},
   "outputs": [
    {
     "name": "stdout",
     "output_type": "stream",
     "text": [
      "Found 143 images belonging to 3 classes.\n"
     ]
    }
   ],
   "source": [
    "validation_generator = test_datagen.flow_from_directory(\n",
    "        validation_data_dir,\n",
    "        target_size=(150, 150),\n",
    "        batch_size=batch_size,\n",
    "        class_mode='binary')"
   ]
  },
  {
   "cell_type": "code",
   "execution_count": 22,
   "metadata": {},
   "outputs": [
    {
     "name": "stdout",
     "output_type": "stream",
     "text": [
      "Epoch 1/10\n",
      "120/120 [==============================] - 92s 769ms/step - loss: -7258.9535 - accuracy: 0.3521 - val_loss: -15254.6855 - val_accuracy: 0.4007\n",
      "Epoch 2/10\n",
      "120/120 [==============================] - 117s 976ms/step - loss: -25164.8108 - accuracy: 0.3596 - val_loss: -21397.6172 - val_accuracy: 0.3289\n",
      "Epoch 3/10\n",
      "120/120 [==============================] - 104s 867ms/step - loss: -65969.8244 - accuracy: 0.3663 - val_loss: -11761.3643 - val_accuracy: 0.3421\n",
      "Epoch 4/10\n",
      "120/120 [==============================] - 101s 841ms/step - loss: -145362.4065 - accuracy: 0.3684 - val_loss: -248251.7031 - val_accuracy: 0.3158\n",
      "Epoch 5/10\n",
      "120/120 [==============================] - 102s 854ms/step - loss: -321460.0105 - accuracy: 0.3580 - val_loss: -799308.8125 - val_accuracy: 0.3297\n",
      "Epoch 6/10\n",
      "120/120 [==============================] - 113s 940ms/step - loss: -537043.0507 - accuracy: 0.3647 - val_loss: -129576.7266 - val_accuracy: 0.3365\n",
      "Epoch 7/10\n",
      "120/120 [==============================] - 104s 863ms/step - loss: -912557.0833 - accuracy: 0.3605 - val_loss: -1396446.1250 - val_accuracy: 0.3177\n",
      "Epoch 8/10\n",
      "120/120 [==============================] - 107s 894ms/step - loss: -1481077.3609 - accuracy: 0.3605 - val_loss: -949920.6875 - val_accuracy: 0.3308\n",
      "Epoch 9/10\n",
      "120/120 [==============================] - 98s 817ms/step - loss: -2138757.6516 - accuracy: 0.3529 - val_loss: -1808180.0000 - val_accuracy: 0.3406\n",
      "Epoch 10/10\n",
      "120/120 [==============================] - 105s 879ms/step - loss: -3138379.8977 - accuracy: 0.3648 - val_loss: -7550791.0000 - val_accuracy: 0.3308\n"
     ]
    }
   ],
   "source": [
    "history=model.fit_generator(\n",
    "        train_generator,\n",
    "        steps_per_epoch=train_samples,\n",
    "        epochs=10,\n",
    "        validation_data=validation_generator,\n",
    "        validation_steps=30 )"
   ]
  },
  {
   "cell_type": "code",
   "execution_count": null,
   "metadata": {},
   "outputs": [],
   "source": []
  }
 ],
 "metadata": {
  "kernelspec": {
   "display_name": "Python 3",
   "language": "python",
   "name": "python3"
  },
  "language_info": {
   "codemirror_mode": {
    "name": "ipython",
    "version": 3
   },
   "file_extension": ".py",
   "mimetype": "text/x-python",
   "name": "python",
   "nbconvert_exporter": "python",
   "pygments_lexer": "ipython3",
   "version": "3.7.4"
  }
 },
 "nbformat": 4,
 "nbformat_minor": 4
}
