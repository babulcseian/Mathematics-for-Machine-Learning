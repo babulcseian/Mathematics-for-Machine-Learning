{
  "nbformat": 4,
  "nbformat_minor": 0,
  "metadata": {
    "colab": {
      "name": "Federated ANN vs Centralized ANN.ipynb",
      "provenance": [],
      "authorship_tag": "ABX9TyN6yU6DmOePjJCct1VWDkuM",
      "include_colab_link": true
    },
    "kernelspec": {
      "name": "python3",
      "display_name": "Python 3"
    },
    "language_info": {
      "name": "python"
    },
    "accelerator": "GPU"
  },
  "cells": [
    {
      "cell_type": "markdown",
      "metadata": {
        "id": "view-in-github",
        "colab_type": "text"
      },
      "source": [
        "<a href=\"https://colab.research.google.com/github/Nazmul92/Machine-Learning-and-Federated-Learning/blob/main/Federated_ANN_vs_Centralized_ANN.ipynb\" target=\"_parent\"><img src=\"https://colab.research.google.com/assets/colab-badge.svg\" alt=\"Open In Colab\"/></a>"
      ]
    },
    {
      "cell_type": "code",
      "source": [
        "### Federated ANN iris data classification\n",
        "### Centralized ANN iris data classification\n",
        "## Loss comparision among FedANN and Centralized ANN"
      ],
      "metadata": {
        "id": "ULChrgnSnV12"
      },
      "execution_count": null,
      "outputs": []
    },
    {
      "cell_type": "code",
      "execution_count": null,
      "metadata": {
        "id": "NLwUGaE8svFI"
      },
      "outputs": [],
      "source": [
        "!pip install syft==0.2.5 -f https://download.pytorch.org/whl/torch_stable.html"
      ]
    },
    {
      "cell_type": "code",
      "source": [
        ""
      ],
      "metadata": {
        "id": "-GmMkhd_nfOs"
      },
      "execution_count": null,
      "outputs": []
    },
    {
      "cell_type": "code",
      "source": [
        "import torch\n",
        "import torch.nn as nn\n",
        "import torch.nn.functional as F\n",
        "import torch.optim as optim\n",
        "from torchvision import datasets, transforms"
      ],
      "metadata": {
        "id": "C3ZmhdVltC57"
      },
      "execution_count": 1,
      "outputs": []
    },
    {
      "cell_type": "code",
      "source": [
        "import pandas as pd\n",
        "from sklearn.datasets import load_iris\n",
        "from sklearn.preprocessing import StandardScaler, LabelEncoder\n",
        "from sklearn.model_selection import train_test_split"
      ],
      "metadata": {
        "id": "2QlE2f44v8XJ"
      },
      "execution_count": 2,
      "outputs": []
    },
    {
      "cell_type": "code",
      "source": [
        "import torch"
      ],
      "metadata": {
        "id": "M-3UYskRBJ0m"
      },
      "execution_count": 3,
      "outputs": []
    },
    {
      "cell_type": "code",
      "source": [
        "import syft as sy  \n",
        "hook = sy.TorchHook(torch)  \n",
        "worker1 = sy.VirtualWorker(hook, id=\"worker1\")  \n",
        "worker2 = sy.VirtualWorker(hook, id=\"worker2\")  \n",
        "worker3 = sy.VirtualWorker(hook, id=\"worker3\")\n",
        "worker4 = sy.VirtualWorker(hook, id=\"worker4\")\n",
        "worker5 = sy.VirtualWorker(hook, id=\"worker5\")\n",
        "worker6 = sy.VirtualWorker(hook, id=\"worker6\")\n",
        "worker7 = sy.VirtualWorker(hook, id=\"worker7\")\n",
        "worker8 = sy.VirtualWorker(hook, id=\"worker8\")\n",
        "worker9 = sy.VirtualWorker(hook, id=\"worker9\")\n",
        "worker10 = sy.VirtualWorker(hook, id=\"worker10\")"
      ],
      "metadata": {
        "id": "3Gd6Hv2eBOqv"
      },
      "execution_count": 4,
      "outputs": []
    },
    {
      "cell_type": "code",
      "source": [
        "dataset=load_iris()"
      ],
      "metadata": {
        "id": "-XjhxJVMBSp3"
      },
      "execution_count": 19,
      "outputs": []
    },
    {
      "cell_type": "code",
      "source": [
        "x=dataset.data\n",
        "y=dataset.target"
      ],
      "metadata": {
        "id": "BPkNiF7pBW2F"
      },
      "execution_count": 20,
      "outputs": []
    },
    {
      "cell_type": "code",
      "source": [
        "x.size"
      ],
      "metadata": {
        "colab": {
          "base_uri": "https://localhost:8080/"
        },
        "id": "hgcTQtIQRn8N",
        "outputId": "37b3d8bf-4b08-452c-8ab7-6ff252875654"
      },
      "execution_count": null,
      "outputs": [
        {
          "output_type": "execute_result",
          "data": {
            "text/plain": [
              "600"
            ]
          },
          "metadata": {},
          "execution_count": 45
        }
      ]
    },
    {
      "cell_type": "code",
      "source": [
        "y.size"
      ],
      "metadata": {
        "colab": {
          "base_uri": "https://localhost:8080/"
        },
        "id": "kX_7UTVTSOxv",
        "outputId": "7409c20a-e33c-400d-9119-aa82e3105142"
      },
      "execution_count": null,
      "outputs": [
        {
          "output_type": "execute_result",
          "data": {
            "text/plain": [
              "150"
            ]
          },
          "metadata": {},
          "execution_count": 51
        }
      ]
    },
    {
      "cell_type": "code",
      "source": [
        "x_train, x_test, y_train, y_test = train_test_split(x,y,test_size=0.3, random_state=7)"
      ],
      "metadata": {
        "id": "glydGSZgBaGl"
      },
      "execution_count": 21,
      "outputs": []
    },
    {
      "cell_type": "code",
      "source": [
        "x_train.size\n"
      ],
      "metadata": {
        "colab": {
          "base_uri": "https://localhost:8080/"
        },
        "id": "lT7hviD_RErj",
        "outputId": "cbdc7241-73d7-495d-c5c0-6f366119e658"
      },
      "execution_count": null,
      "outputs": [
        {
          "output_type": "execute_result",
          "data": {
            "text/plain": [
              "420"
            ]
          },
          "metadata": {},
          "execution_count": 47
        }
      ]
    },
    {
      "cell_type": "code",
      "source": [
        "x_test.size\n"
      ],
      "metadata": {
        "colab": {
          "base_uri": "https://localhost:8080/"
        },
        "id": "azSs317ISD7J",
        "outputId": "27aa90f0-60c1-4adf-8b99-dc81d8ad06fe"
      },
      "execution_count": null,
      "outputs": [
        {
          "output_type": "execute_result",
          "data": {
            "text/plain": [
              "180"
            ]
          },
          "metadata": {},
          "execution_count": 48
        }
      ]
    },
    {
      "cell_type": "code",
      "source": [
        "y_train.size\n"
      ],
      "metadata": {
        "colab": {
          "base_uri": "https://localhost:8080/"
        },
        "id": "H_HSmTWHSHQ3",
        "outputId": "07ec4f95-49a2-4590-daf3-566eb8e870be"
      },
      "execution_count": null,
      "outputs": [
        {
          "output_type": "execute_result",
          "data": {
            "text/plain": [
              "105"
            ]
          },
          "metadata": {},
          "execution_count": 49
        }
      ]
    },
    {
      "cell_type": "code",
      "source": [
        "y_test.size"
      ],
      "metadata": {
        "colab": {
          "base_uri": "https://localhost:8080/"
        },
        "id": "U6X8USLvSJ4h",
        "outputId": "800829c9-b344-472e-ccb5-ac822a6c7d32"
      },
      "execution_count": null,
      "outputs": [
        {
          "output_type": "execute_result",
          "data": {
            "text/plain": [
              "45"
            ]
          },
          "metadata": {},
          "execution_count": 50
        }
      ]
    },
    {
      "cell_type": "code",
      "source": [
        "x_test=torch.FloatTensor(x_test)\n",
        "y_test=torch.FloatTensor(y_test)"
      ],
      "metadata": {
        "id": "vd4LDZuymtLQ"
      },
      "execution_count": null,
      "outputs": []
    },
    {
      "cell_type": "code",
      "source": [
        "base=sy.BaseDataset(torch.from_numpy(x_train),torch.from_numpy(y_train))"
      ],
      "metadata": {
        "id": "pNlUjMu5Bev9"
      },
      "execution_count": 22,
      "outputs": []
    },
    {
      "cell_type": "code",
      "source": [
        "class Arguments():\n",
        "    def __init__(self):\n",
        "        self.batch_size = 20\n",
        "        self.test_batch_size = 20\n",
        "        self.epochs = 1000\n",
        "        self.lr = 0.01\n",
        "        self.momentum = 0.5\n",
        "        self.no_cuda = False\n",
        "        self.seed = 1\n",
        "        self.log_interval = 5\n",
        "        self.save_model = False\n",
        "\n",
        "args = Arguments()\n",
        "\n",
        "use_cuda = not args.no_cuda and torch.cuda.is_available()\n",
        "\n",
        "torch.manual_seed(args.seed)\n",
        "\n",
        "device = torch.device(\"cuda\" if use_cuda else \"cpu\")\n",
        "\n",
        "kwargs = {'num_workers': 1, 'pin_memory': True} if use_cuda else {}"
      ],
      "metadata": {
        "id": "9_2Wx819BjI0"
      },
      "execution_count": 9,
      "outputs": []
    },
    {
      "cell_type": "code",
      "source": [
        "federated_train_loader = sy.FederatedDataLoader(\n",
        "                         base\n",
        "                         .federate((worker1,worker2, worker3, worker4, worker5, worker6, worker7, worker8, worker9, worker10)),batch_size=args.batch_size, shuffle=True)"
      ],
      "metadata": {
        "id": "seOJnhwWBnae"
      },
      "execution_count": 10,
      "outputs": []
    },
    {
      "cell_type": "code",
      "source": [
        "base_test=sy.BaseDataset(torch.from_numpy(x_test),torch.from_numpy(y_test))"
      ],
      "metadata": {
        "id": "qCF_3Wxz5FyI"
      },
      "execution_count": null,
      "outputs": []
    },
    {
      "cell_type": "code",
      "source": [
        "federated_test_loader = sy.FederatedDataLoader(\n",
        "                         base_test\n",
        "                         .federate((worker1,worker2, worker3, worker4, worker5, worker6, worker7, worker8, worker9, worker10)),batch_size=args.batch_size, shuffle=True)"
      ],
      "metadata": {
        "id": "meeFU_8OvA6p"
      },
      "execution_count": null,
      "outputs": []
    },
    {
      "cell_type": "code",
      "source": [
        "test_loader=torch.utils.data.DataLoader(base, batch_size=args.test_batch_size)"
      ],
      "metadata": {
        "id": "Gh13zadB98jt"
      },
      "execution_count": null,
      "outputs": []
    },
    {
      "cell_type": "code",
      "source": [
        "class Net(nn.Module):\n",
        "  def __init__(self):\n",
        "    super().__init__()\n",
        "    self.fc1 = nn.Linear(in_features=4, out_features=50)\n",
        "    self.fc2 = nn.Linear(in_features=50, out_features=100)\n",
        "    self.output = nn.Linear(in_features=100, out_features=3)\n",
        "  def forward(self, x):\n",
        "    x = F.relu(self.fc1(x))\n",
        "    x = F.relu(self.fc2(x))\n",
        "    x = F.softmax(self.output(x), dim=1)\n",
        "    return x"
      ],
      "metadata": {
        "id": "arNUbq6fBsFV"
      },
      "execution_count": 11,
      "outputs": []
    },
    {
      "cell_type": "code",
      "source": [
        "import numpy as np"
      ],
      "metadata": {
        "id": "w1XD47RFW0a1"
      },
      "execution_count": null,
      "outputs": []
    },
    {
      "cell_type": "code",
      "source": [
        "model = Net().to(device)\n",
        "optimizer = optim.SGD(model.parameters(), lr=args.lr)\n",
        "model.train()\n",
        "#accuracy_list = np.zeros((args.epochs,))\n",
        "train_loss=[]\n",
        "test_loss=[]\n",
        "for epoch in range(1, args.epochs + 1):\n",
        "  correct=0.0\n",
        "  for batch_idx, (data, target) in enumerate(federated_train_loader): \n",
        "    model.send(data.location) \n",
        "    data, target = data.to(device), target.to(device)\n",
        "    optimizer.zero_grad()\n",
        "    output = model(data.float())\n",
        "    loss = F.cross_entropy(output, target)\n",
        "    loss.backward()\n",
        "    optimizer.step()\n",
        "    correct+= (output.argmax(dim=1)==target).sum().get()\n",
        "    model.get()\n",
        "  loss=loss.get()\n",
        "  train_loss.append(loss.item())\n",
        "  #y_pred=model(x_test).long()\n",
        "  #t_loss=F.cross_entropy(y_pred,y_test)\n",
        "  #train_loss.append(t_loss.item())\n",
        "  print(f'epoch: {epoch:2}  train_loss: {loss.item():10.8f}')\n",
        "  #accuracy_list[epoch] = correct.mean()\n",
        "  #print('epoch: {}, train_accuracy: {}'.format(epoch, 100*correct/len(x_train)))\n",
        "\n",
        "  \n",
        "   "
      ],
      "metadata": {
        "id": "aykHOPNKBwOc"
      },
      "execution_count": null,
      "outputs": []
    },
    {
      "cell_type": "code",
      "source": [
        "len(train_loss)"
      ],
      "metadata": {
        "colab": {
          "base_uri": "https://localhost:8080/"
        },
        "id": "6X8CSjikTK9d",
        "outputId": "97db7de2-8a4d-47bd-800b-8cf8b68740c2"
      },
      "execution_count": 32,
      "outputs": [
        {
          "output_type": "execute_result",
          "data": {
            "text/plain": [
              "1000"
            ]
          },
          "metadata": {},
          "execution_count": 32
        }
      ]
    },
    {
      "cell_type": "code",
      "source": [
        "import matplotlib.pyplot as plt\n",
        "import seaborn as sns\n",
        "sns.set()\n",
        "  "
      ],
      "metadata": {
        "id": "JVdE5VKhtgo-"
      },
      "execution_count": 14,
      "outputs": []
    },
    {
      "cell_type": "code",
      "source": [
        "epochs=1000"
      ],
      "metadata": {
        "id": "q7AVNdgI7ovF"
      },
      "execution_count": 15,
      "outputs": []
    },
    {
      "cell_type": "code",
      "source": [
        "import numpy as np"
      ],
      "metadata": {
        "id": "gd0GlDYchrCP"
      },
      "execution_count": 16,
      "outputs": []
    },
    {
      "cell_type": "code",
      "source": [
        ""
      ],
      "metadata": {
        "id": "jImChy0jE2-c"
      },
      "execution_count": null,
      "outputs": []
    },
    {
      "cell_type": "code",
      "source": [
        ""
      ],
      "metadata": {
        "id": "j3qNqsx_FV2u"
      },
      "execution_count": null,
      "outputs": []
    },
    {
      "cell_type": "code",
      "source": [
        "import numpy as np"
      ],
      "metadata": {
        "id": "adG137HREc7V"
      },
      "execution_count": null,
      "outputs": []
    },
    {
      "cell_type": "code",
      "source": [
        "x=np.linspace(0,1000,1000)"
      ],
      "metadata": {
        "id": "HlaEbnDWEZg7"
      },
      "execution_count": 17,
      "outputs": []
    },
    {
      "cell_type": "code",
      "source": [
        "sns.set_theme()\n",
        "plt.plot(x, train_loss)\n",
        "plt.style.use('classic')\n",
        "plt.ylabel('Loss')\n",
        "plt.xlabel('epoch');\n"
      ],
      "metadata": {
        "id": "mVlP2LPpD8Rd",
        "colab": {
          "base_uri": "https://localhost:8080/",
          "height": 459
        },
        "outputId": "c05673e6-5574-4b98-855f-3da82a344813"
      },
      "execution_count": 48,
      "outputs": [
        {
          "output_type": "display_data",
          "data": {
            "image/png": "[encoded data removed]",
            "text/plain": [
              "<Figure size 640x480 with 1 Axes>"
            ]
          },
          "metadata": {}
        }
      ]
    },
    {
      "cell_type": "code",
      "source": [
        "x=np.linspace(0,1000,1000)"
      ],
      "metadata": {
        "id": "BuUvvGMjGfcG"
      },
      "execution_count": null,
      "outputs": []
    },
    {
      "cell_type": "code",
      "source": [
        ""
      ],
      "metadata": {
        "id": "GvMvTec_LSA-"
      },
      "execution_count": null,
      "outputs": []
    },
    {
      "cell_type": "markdown",
      "source": [
        "######### Centralized ANN Iris data classification"
      ],
      "metadata": {
        "id": "HfXuhFkfLN10"
      }
    },
    {
      "cell_type": "code",
      "source": [
        "base_train=sy.BaseDataset(torch.from_numpy(x_train),torch.from_numpy(y_train))"
      ],
      "metadata": {
        "id": "I4Xm8eIqMf7M"
      },
      "execution_count": null,
      "outputs": []
    },
    {
      "cell_type": "code",
      "source": [
        "train_loader=torch.utils.data.DataLoader(base, batch_size=args.batch_size)"
      ],
      "metadata": {
        "id": "6v30vr0iGyLb"
      },
      "execution_count": 23,
      "outputs": []
    },
    {
      "cell_type": "code",
      "source": [
        "len(train_loader)"
      ],
      "metadata": {
        "colab": {
          "base_uri": "https://localhost:8080/"
        },
        "id": "_f7XRoVCQ55L",
        "outputId": "2fbbf45b-f267-4a15-a11c-7e19fad3bbc0"
      },
      "execution_count": null,
      "outputs": [
        {
          "output_type": "execute_result",
          "data": {
            "text/plain": [
              "6"
            ]
          },
          "metadata": {},
          "execution_count": 41
        }
      ]
    },
    {
      "cell_type": "code",
      "source": [
        "class Net(nn.Module):\n",
        "  def __init__(self):\n",
        "    super().__init__()\n",
        "    self.fc1 = nn.Linear(in_features=4, out_features=50)\n",
        "    self.fc2 = nn.Linear(in_features=50, out_features=100)\n",
        "    self.output = nn.Linear(in_features=100, out_features=3)\n",
        "  def forward(self, x):\n",
        "    x = F.relu(self.fc1(x))\n",
        "    x = F.relu(self.fc2(x))\n",
        "    x = F.softmax(self.output(x), dim=1)\n",
        "    return x"
      ],
      "metadata": {
        "id": "Yym47B3CGjzD"
      },
      "execution_count": 24,
      "outputs": []
    },
    {
      "cell_type": "code",
      "source": [
        "model = Net().to(device)\n",
        "optimizer = optim.SGD(model.parameters(), lr=args.lr)\n",
        "model.train()\n",
        "#accuracy_list = np.zeros((args.epochs,))\n",
        "ann_train_loss=[]\n",
        "test_loss=[]\n",
        "for epoch in range(1, args.epochs + 1):\n",
        "  sum=0.0\n",
        "  temp=1.0\n",
        "  test_loss.clear()\n",
        "  for batch_idx, (data, target) in enumerate(train_loader): \n",
        "    #model.send(data.location) \n",
        "    data, target = data.to(device), target.to(device)\n",
        "    optimizer.zero_grad()\n",
        "    output = model(data.float())\n",
        "    loss = F.cross_entropy(output, target)\n",
        "    test_loss.append(loss.item())\n",
        "    loss.backward()\n",
        "    optimizer.step()\n",
        "  for index, losses in enumerate(test_loss):\n",
        "    sum+=losses\n",
        "    temp+=index\n",
        "  ann_train_loss.append(sum/temp)\n",
        "    #correct+= (output.argmax(dim=1)==target).sum().get()\n",
        "    #model.get()\n",
        "  #loss=loss.get()\n",
        "  \n",
        "  #y_pred=model(x_test).long()\n",
        "  #t_loss=F.cross_entropy(y_pred,y_test)\n",
        "  #train_loss.append(t_loss.item())\n",
        "  print(epoch, ann_train_loss )\n",
        "  #accuracy_list[epoch] = correct.mean()\n",
        "  #print('epoch: {}, train_accuracy: {}'.format(epoch, 100*correct/len(x_train)))\n",
        "\n",
        "  \n",
        "   "
      ],
      "metadata": {
        "id": "Bq9yQPQpD7b9"
      },
      "execution_count": null,
      "outputs": []
    },
    {
      "cell_type": "code",
      "source": [
        "sum = 0.0\n",
        "for index, losses in enumerate(test_loss):\n",
        "  sum+=losses\n",
        "  print(index, losses)\n",
        "print(sum)"
      ],
      "metadata": {
        "id": "tkKwQ1oZNvRN"
      },
      "execution_count": null,
      "outputs": []
    },
    {
      "cell_type": "code",
      "source": [
        "len(test_loss)"
      ],
      "metadata": {
        "colab": {
          "base_uri": "https://localhost:8080/"
        },
        "id": "who-P0v0QLSU",
        "outputId": "816264a5-aa85-4daf-d291-a666a02b0b33"
      },
      "execution_count": 26,
      "outputs": [
        {
          "output_type": "execute_result",
          "data": {
            "text/plain": [
              "6000"
            ]
          },
          "metadata": {},
          "execution_count": 26
        }
      ]
    },
    {
      "cell_type": "code",
      "source": [
        "import matplotlib.pyplot as plt\n",
        "import seaborn as sns\n",
        "sns.set()\n",
        "  "
      ],
      "metadata": {
        "id": "gSOzU5wiE5lq"
      },
      "execution_count": 41,
      "outputs": []
    },
    {
      "cell_type": "code",
      "source": [
        "epochs=1000"
      ],
      "metadata": {
        "id": "AbtnKjM5O5Vk"
      },
      "execution_count": null,
      "outputs": []
    },
    {
      "cell_type": "code",
      "source": [
        "import numpy as np"
      ],
      "metadata": {
        "id": "1jwqWBwdO-Tz"
      },
      "execution_count": 28,
      "outputs": []
    },
    {
      "cell_type": "code",
      "source": [
        "x=np.linspace(0,1000,1000)"
      ],
      "metadata": {
        "id": "0qtq45zZPChz"
      },
      "execution_count": 50,
      "outputs": []
    },
    {
      "cell_type": "code",
      "source": [
        "sns.set_theme()\n",
        "plt.plot(x,ann_train_loss,label=\"Centralized ANN\" )\n",
        "plt.plot(x, train_loss, label=\"Federated ANN\")\n",
        "plt.style.use('classic')\n",
        "plt.ylabel('training loss')\n",
        "plt.xlabel('epoch');\n",
        "plt.xlim([-50,1050])\n",
        "plt.ylim([0.1,1.2])\n",
        "plt.legend()\n",
        "plt.savefig('G:\\Fedarated Learning\\fedANN.pdf')"
      ],
      "metadata": {
        "colab": {
          "base_uri": "https://localhost:8080/",
          "height": 466
        },
        "id": "hQ-6-IcrPHFz",
        "outputId": "de1f7e31-bf3d-4a73-9918-a8b3c5981e51"
      },
      "execution_count": 61,
      "outputs": [
        {
          "output_type": "display_data",
          "data": {
            "image/png": "[encoded data removed]",
            "text/plain": [
              "<Figure size 640x480 with 1 Axes>"
            ]
          },
          "metadata": {}
        }
      ]
    },
    {
      "cell_type": "code",
      "source": [
        ""
      ],
      "metadata": {
        "id": "q7kd4AXmPLNT"
      },
      "execution_count": null,
      "outputs": []
    }
  ]
}